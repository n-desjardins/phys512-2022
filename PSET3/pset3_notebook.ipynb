{
 "cells": [
  {
   "cell_type": "code",
   "execution_count": 2,
   "metadata": {},
   "outputs": [],
   "source": [
    "import numpy as np\n",
    "import matplotlib.pyplot as plt\n"
   ]
  },
  {
   "cell_type": "code",
   "execution_count": 154,
   "metadata": {},
   "outputs": [
    {
     "name": "stdout",
     "output_type": "stream",
     "text": [
      "-2.0613374827624333e-07\n"
     ]
    },
    {
     "data": {
      "image/png": "[encoded data removed]",
      "text/plain": [
       "<Figure size 432x288 with 1 Axes>"
      ]
     },
     "metadata": {
      "needs_background": "light"
     },
     "output_type": "display_data"
    }
   ],
   "source": [
    "\n",
    "def f(x,y): #y''=-y\n",
    "    return y/(1+x**2)\n",
    "\n",
    "def rk4(fun,x,y,h):\n",
    "\n",
    "    eval = fun(x,y)\n",
    "\n",
    "    k1=eval*h\n",
    "    k2=h*fun(x+h/2,y+k1/2)\n",
    "    k3=h*fun(x+h/2,y+k2/2)\n",
    "    k4=h*fun(x+h,y+k3)\n",
    "    y1= y + (k1+2*k2+2*k3+k4)/6\n",
    "\n",
    "    k5=eval*h/2\n",
    "    k6=h/2*fun(x+h/4,y+k5/2)\n",
    "    k7=h/2*fun(x+h/4,y+k6/2)\n",
    "    k8=h/2*fun(x+h/2,y+k7)\n",
    "    y2_1= y + (k5+2*k6+2*k7+k8)/6\n",
    "\n",
    "    k9=fun(x+h/2,y2_1)*h/2\n",
    "    k10=h/2*fun(x+3*h/4,y2_1+k9/2)\n",
    "    k11=h/2*fun(x+3*h/4,y2_1+k10/2)\n",
    "    k12=h/2*fun(x+h,y2_1+k11)\n",
    "    y2_2 = y2_1 + (k9+2*k10+2*k11+k12)/6\n",
    "\n",
    "    return y2_2+(y2_2-y1)/15\n",
    "\n",
    "npt=201\n",
    "x=np.linspace(-20,20,npt)\n",
    "y=np.zeros([2,npt])\n",
    "y[0,0]=1 #starting conditions\n",
    "y[1,0]=0 #if I start at peak, then first derivative =0\n",
    "for i in range(npt-1):\n",
    "    h=x[i+1]-x[i]\n",
    "    y[:,i+1]= rk4(f,x[i],y[:,i],h)\n",
    "\n",
    "c = 1/(np.exp(np.arctan(-20)))\n",
    "truth=c*np.exp(np.arctan(x))\n",
    "\n",
    "\n",
    "print(np.mean(truth-y[0,:]))\n",
    "\n",
    "plt.ion()\n",
    "plt.plot(x,y[0,:])\n",
    "plt.plot(x,truth)\n",
    "plt.title('RK4 error, ' + repr(npt)+ ' points')\n",
    "plt.savefig('rk4_err.png')\n",
    "\n"
   ]
  },
  {
   "cell_type": "code",
   "execution_count": 151,
   "metadata": {},
   "outputs": [
    {
     "data": {
      "text/plain": [
       "0.0"
      ]
     },
     "execution_count": 151,
     "metadata": {},
     "output_type": "execute_result"
    }
   ],
   "source": [
    "1/2+1/4-3/4"
   ]
  }
 ],
 "metadata": {
  "kernelspec": {
   "display_name": "Python 3.9.12 ('base')",
   "language": "python",
   "name": "python3"
  },
  "language_info": {
   "codemirror_mode": {
    "name": "ipython",
    "version": 3
   },
   "file_extension": ".py",
   "mimetype": "text/x-python",
   "name": "python",
   "nbconvert_exporter": "python",
   "pygments_lexer": "ipython3",
   "version": "3.9.12"
  },
  "orig_nbformat": 4,
  "vscode": {
   "interpreter": {
    "hash": "c29adc918ff56c752ef69bef00024de6f7f898d607da287a4d8363a8ad045c43"
   }
  }
 },
 "nbformat": 4,
 "nbformat_minor": 2
}
