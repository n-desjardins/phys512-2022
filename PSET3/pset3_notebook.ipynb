{
 "cells": [
  {
   "cell_type": "code",
   "execution_count": 32,
   "metadata": {},
   "outputs": [],
   "source": [
    "import numpy as np\n",
    "from scipy import integrate\n",
    "import time\n",
    "import matplotlib.pyplot as plt\n"
   ]
  },
  {
   "cell_type": "code",
   "execution_count": 33,
   "metadata": {},
   "outputs": [
    {
     "name": "stdout",
     "output_type": "stream",
     "text": [
      "-2.0613374827624333e-07\n"
     ]
    },
    {
     "data": {
      "image/png": "[encoded data removed]",
      "text/plain": [
       "<Figure size 432x288 with 1 Axes>"
      ]
     },
     "metadata": {
      "needs_background": "light"
     },
     "output_type": "display_data"
    }
   ],
   "source": [
    "\n",
    "def f(x,y): #y''=-y\n",
    "    return y/(1+x**2)\n",
    "\n",
    "def rk4(fun,x,y,h):\n",
    "\n",
    "    eval = fun(x,y)\n",
    "\n",
    "    k1=eval*h\n",
    "    k2=h*fun(x+h/2,y+k1/2)\n",
    "    k3=h*fun(x+h/2,y+k2/2)\n",
    "    k4=h*fun(x+h,y+k3)\n",
    "    y1= y + (k1+2*k2+2*k3+k4)/6\n",
    "\n",
    "    k5=eval*h/2\n",
    "    k6=h/2*fun(x+h/4,y+k5/2)\n",
    "    k7=h/2*fun(x+h/4,y+k6/2)\n",
    "    k8=h/2*fun(x+h/2,y+k7)\n",
    "    y2_1= y + (k5+2*k6+2*k7+k8)/6\n",
    "\n",
    "    k9=fun(x+h/2,y2_1)*h/2\n",
    "    k10=h/2*fun(x+3*h/4,y2_1+k9/2)\n",
    "    k11=h/2*fun(x+3*h/4,y2_1+k10/2)\n",
    "    k12=h/2*fun(x+h,y2_1+k11)\n",
    "    y2_2 = y2_1 + (k9+2*k10+2*k11+k12)/6\n",
    "\n",
    "    return y2_2+(y2_2-y1)/15\n",
    "\n",
    "npt=201\n",
    "x=np.linspace(-20,20,npt)\n",
    "y=np.zeros([2,npt])\n",
    "y[0,0]=1 #starting conditions\n",
    "y[1,0]=0 #if I start at peak, then first derivative =0\n",
    "for i in range(npt-1):\n",
    "    h=x[i+1]-x[i]\n",
    "    y[:,i+1]= rk4(f,x[i],y[:,i],h)\n",
    "\n",
    "c = 1/(np.exp(np.arctan(-20)))\n",
    "truth=c*np.exp(np.arctan(x))\n",
    "\n",
    "\n",
    "print(np.mean(truth-y[0,:]))\n",
    "\n",
    "plt.ion()\n",
    "plt.plot(x,y[0,:])\n",
    "plt.plot(x,truth)\n",
    "plt.title('RK4 error, ' + repr(npt)+ ' points')\n",
    "plt.savefig('rk4_err.png')\n",
    "\n"
   ]
  },
  {
   "cell_type": "code",
   "execution_count": 111,
   "metadata": {},
   "outputs": [
    {
     "data": {
      "text/plain": [
       "<matplotlib.legend.Legend at 0x215be998d90>"
      ]
     },
     "execution_count": 111,
     "metadata": {},
     "output_type": "execute_result"
    },
    {
     "data": {
      "image/png": "[encoded data removed]",
      "text/plain": [
       "<Figure size 432x288 with 1 Axes>"
      ]
     },
     "metadata": {
      "needs_background": "light"
     },
     "output_type": "display_data"
    }
   ],
   "source": [
    "from matplotlib.lines import lineStyles\n",
    "from pyrsistent import v\n",
    "\n",
    "\n",
    "def fun(t,y):\n",
    "\n",
    "    def mid_bateman(r1,r2):\n",
    "        return y[r1]/lifetime[r1]-y[r2]/lifetime[r2]\n",
    "\n",
    "    #year is unity \n",
    "    hour = 0.000114155\n",
    "    Gyear = 1e9\n",
    "    day = 0.00273973\n",
    "    min = 1.9026e-6\n",
    "    microsec = 3.171e-14\n",
    "\n",
    "\n",
    "    lifetime = [\n",
    "        4.468*Gyear,    # U238\n",
    "        24.1*day,       # Th234\n",
    "        6.70*hour,      # Pr234\n",
    "        245500,        # U234\n",
    "        75380 ,         # Th230\n",
    "        1600 ,          # Ra226\n",
    "        3.8235*day,     # Rn222\n",
    "        3.1*min,        # Po218\n",
    "        26.8*min,       # Pb214\n",
    "        19.9*min,       # Bi214\n",
    "        164.3*microsec, # Po214\n",
    "        22.3,           # Pb210\n",
    "        5.015,          # Bi210\n",
    "        138376*day      # Po210\n",
    "        ]\n",
    "    \n",
    "    lifetime_lenght = len(lifetime)\n",
    "    dydt=np.zeros(lifetime_lenght+1)\n",
    "\n",
    "    dydt[0]=-y[0]/lifetime[0]\n",
    "\n",
    "    for i in range(1,len(lifetime)):\n",
    "        dydt[i] = mid_bateman(i-1,i)\n",
    "\n",
    "    dydt[lifetime_lenght]=y[lifetime_lenght-1]/lifetime[lifetime_lenght-1]\n",
    "    return dydt\n",
    "\n",
    "\n",
    "y0=np.zeros(15)\n",
    "y0[0] = 1\n",
    "\n",
    "t0=0\n",
    "t1=7*4.468e9\n",
    "ans=integrate.solve_ivp(fun,[t0,t1],y0, method=\"Radau\")\n",
    "\n",
    "truth = np.exp(ans.t/4.468e9)-1\n",
    "\n",
    "\n",
    "#plt.figure(figsize=(10, 8), dpi=100)\n",
    "plt.plot(ans.t, truth)\n",
    "plt.plot(ans.t, ans.y[14]/ans.y[0], color=\"red\", linestyle=\"--\")\n",
    "\n",
    "plt.legend([\"Radau\",\"truth\"])\n"
   ]
  }
 ],
 "metadata": {
  "kernelspec": {
   "display_name": "Python 3.9.12 ('base')",
   "language": "python",
   "name": "python3"
  },
  "language_info": {
   "codemirror_mode": {
    "name": "ipython",
    "version": 3
   },
   "file_extension": ".py",
   "mimetype": "text/x-python",
   "name": "python",
   "nbconvert_exporter": "python",
   "pygments_lexer": "ipython3",
   "version": "3.9.12"
  },
  "orig_nbformat": 4,
  "vscode": {
   "interpreter": {
    "hash": "c29adc918ff56c752ef69bef00024de6f7f898d607da287a4d8363a8ad045c43"
   }
  }
 },
 "nbformat": 4,
 "nbformat_minor": 2
}
