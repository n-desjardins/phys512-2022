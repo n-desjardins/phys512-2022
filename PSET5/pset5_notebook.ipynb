{
 "cells": [
  {
   "cell_type": "code",
   "execution_count": 35,
   "metadata": {},
   "outputs": [],
   "source": [
    "import numpy as np\n",
    "import camb\n",
    "from matplotlib import pyplot as plt\n",
    "import scipy.constants as const"
   ]
  },
  {
   "cell_type": "code",
   "execution_count": 3,
   "metadata": {},
   "outputs": [],
   "source": [
    "#cosmic model \n",
    "def get_spectrum(pars,data_lenght,lmax=3000):\n",
    "    H0=pars[0]\n",
    "    ombh2=pars[1]\n",
    "    omch2=pars[2]\n",
    "    tau=pars[3] \n",
    "    As=pars[4]\n",
    "    ns=pars[5]\n",
    "\n",
    "    pars=camb.CAMBparams()\n",
    "    pars.set_cosmology(H0=H0,ombh2=ombh2,omch2=omch2,mnu=0.06,omk=0,tau=tau)\n",
    "    pars.InitPower.set_params(As=As,ns=ns,r=0)\n",
    "    pars.set_for_lmax(lmax,lens_potential_accuracy=0)\n",
    "    results=camb.get_results(pars)\n",
    "    powers=results.get_cmb_power_spectra(pars,CMB_unit='muK')\n",
    "    cmb=powers['total']\n",
    "    tt=cmb[:,0]    #you could return the full power spectrum here if you wanted to do say EE\n",
    "    return tt[2:][:data_lenght]"
   ]
  },
  {
   "cell_type": "code",
   "execution_count": 4,
   "metadata": {},
   "outputs": [],
   "source": [
    "#We use this to compute the Jacobian \n",
    "#It uses the central difference method\n",
    "def central_diff(fun,pars,dp,x):\n",
    "\n",
    "    data_lenght = len(x)\n",
    "\n",
    "    #Initialzaing the A\n",
    "    A=np.empty([data_lenght,len(pars)])\n",
    "\n",
    "    #We want the partial with respect to each parameter\n",
    "    #So we loop over each parameter\n",
    "    for i in range(len(pars)):\n",
    "        p_copy=pars.copy() #copying the paramater array \n",
    "\n",
    "        #Foward step f(x+dx)\n",
    "        p_copy[i]=pars[i]+dp[i]\n",
    "        foward_step=fun(p_copy,data_lenght)\n",
    "\n",
    "        #Backward step f(x-dx)\n",
    "        p_copy[i]=pars[i]-dp[i]\n",
    "        backward_step=fun(p_copy, data_lenght)\n",
    "\n",
    "        #Central difference\n",
    "        A[:,i]=(foward_step-backward_step)/(2*dp[i])\n",
    "    return A"
   ]
  },
  {
   "cell_type": "code",
   "execution_count": 5,
   "metadata": {},
   "outputs": [],
   "source": [
    "#This perfroms Gauss-Newton method\n",
    "def newton(fun,pars,N_inv,dp,x,y,niter=20):\n",
    "\n",
    "    data_lenght = len(x)\n",
    "\n",
    "    for i in range(niter):\n",
    "\n",
    "        #Coputing residuals\n",
    "        pred=fun(pars,data_lenght)\n",
    "        r=y-pred\n",
    "\n",
    "        #Compute Jacobian\n",
    "        J=central_diff(fun,pars,dp,x)\n",
    "\n",
    "        #The next step is equal to (J^T*N*J)*(J^T*N*resdiuals)^-1\n",
    "        #As seen in class\n",
    "        lhs=J.T@N_inv@J\n",
    "        rhs=J.T@N_inv@r\n",
    "        cov = np.linalg.inv(lhs)\n",
    "        step=cov@rhs\n",
    "\n",
    "        #Increasing parameters by next step \n",
    "        pars=pars+step\n",
    "        \n",
    "    return pars, cov"
   ]
  },
  {
   "cell_type": "code",
   "execution_count": 6,
   "metadata": {},
   "outputs": [],
   "source": [
    "#This return the chi square of our model\n",
    "#provided the parameters \n",
    "def chi_sq(parms,errs,y):\n",
    "    data_lenght = len(y)\n",
    "    resid = y-get_spectrum(parms, data_lenght)\n",
    "    return np.sum((resid/errs)**2)"
   ]
  },
  {
   "cell_type": "code",
   "execution_count": 7,
   "metadata": {},
   "outputs": [],
   "source": [
    "def constraint_chi_sq(parms,errs,y):\n",
    "    return chi_sq(parms,errs,y)+((parms[3]-0.054)/0.0074)**2"
   ]
  },
  {
   "cell_type": "code",
   "execution_count": 8,
   "metadata": {},
   "outputs": [],
   "source": [
    "def get_step(L, shape):\n",
    "        return L@np.random.randn(shape)"
   ]
  },
  {
   "cell_type": "code",
   "execution_count": 9,
   "metadata": {},
   "outputs": [],
   "source": [
    "def mcmc(fun,running_pars,trial_step,data,err,nstep=20000,T=1):\n",
    "\n",
    "    #Initializing the arrays that is going to keep \n",
    "    # a history of our chain anc chi-square\n",
    "    chain_history=np.zeros([nstep,len(running_pars)])\n",
    "    chain_history[0,:]=running_pars #First element is our guess parameters\n",
    "\n",
    "    chisq_history=np.zeros(nstep)\n",
    "    running_chi=fun(running_pars,err,data)\n",
    "    chisq_history[0]=running_chi  #First element is the chi-square evaluated \n",
    "    #with our guess parameter\n",
    "\n",
    "\n",
    "    L=np.linalg.cholesky(trial_step)\n",
    "    shape = trial_step.shape[0]\n",
    "\n",
    "    for i in range(1,nstep):\n",
    "\n",
    "        #Add a step to our parameters using a step maker function\n",
    "        new_pars=running_pars+get_step(L,shape)\n",
    "\n",
    "        #Compute chi-square with new parameters \n",
    "        new_chi=fun(new_pars,err,data)\n",
    "\n",
    "        #Check with accept the step using the formula from class\n",
    "        accept_prob=np.exp(-0.5*(new_chi-running_chi)/T)\n",
    "        if np.random.rand(1)<accept_prob:\n",
    "            running_pars=new_pars\n",
    "            running_chi=new_chi\n",
    "        \n",
    "        #If the the step got accepted the next element in our history\n",
    "        # is the this new step otherwise it's just the previous one \n",
    "        chain_history[i,:]=running_pars\n",
    "        chisq_history[i]=running_chi\n",
    "\n",
    "\n",
    "    return chain_history,chisq_history"
   ]
  },
  {
   "cell_type": "code",
   "execution_count": 10,
   "metadata": {},
   "outputs": [],
   "source": [
    "def gaussian(x,mu,sig):\n",
    "    return 1/np.sqrt(2*np.pi*sig**2)*np.exp(-(x-mu)**2/(2*sig**2))"
   ]
  },
  {
   "cell_type": "code",
   "execution_count": 11,
   "metadata": {},
   "outputs": [],
   "source": [
    "def dark_energy(pars,errs):\n",
    "    \n",
    "    dark_energy = (1 - 100**2/pars[0]**2*(pars[1]+pars[2]))\n",
    "\n",
    "    d_dh =100**2*2/pars[0]**3*(pars[1]+pars[2])\n",
    "    d_db = (100/pars[0])**2\n",
    "    d_dc = (100/pars[0])**2\n",
    "\n",
    "    \n",
    "    err = np.sqrt((d_dh*errs[0])**2 + (d_db*errs[1])**2 + (d_db*errs[1])**2)\n",
    "\n",
    "\n",
    "    return dark_energy, err"
   ]
  },
  {
   "cell_type": "code",
   "execution_count": 44,
   "metadata": {},
   "outputs": [],
   "source": [
    "def weighted_std(data, weights):\n",
    "    mean = np.average(data, weights=weights)\n",
    "    variance = np.average((data-mean)**2, weights=weights)\n",
    "    return np.sqrt(variance)"
   ]
  },
  {
   "cell_type": "markdown",
   "metadata": {},
   "source": [
    "Question1"
   ]
  },
  {
   "cell_type": "markdown",
   "metadata": {},
   "source": [
    "First we are going to test with the number Prof. Sievers dialed in. I am going to look at the reduced chi-square so I am going to divide the chi-square by the number of degree of freedom which is the number of data points minus the number of fitted parameters "
   ]
  },
  {
   "cell_type": "code",
   "execution_count": 13,
   "metadata": {},
   "outputs": [
    {
     "name": "stdout",
     "output_type": "stream",
     "text": [
      "Chi-square = 15267.937150261658\n",
      "Reduced chi-square =  6.104732966917896\n"
     ]
    }
   ],
   "source": [
    "#Loading the data\n",
    "planck=np.loadtxt('COM_PowerSpect_CMB-TT-full_R3.01.txt',skiprows=1)\n",
    "ell=planck[:,0]\n",
    "spec=planck[:,1]\n",
    "errs=0.5*(planck[:,2]+planck[:,3])\n",
    "\n",
    "pars = [60,0.02,0.1,0.05,2.00e-9,1.0]\n",
    "\n",
    "#Reduced chi-square\n",
    "print(\"Chi-square =\", chi_sq(pars,errs,spec))\n",
    "print(\"Reduced chi-square = \",chi_sq(pars,errs,spec)/(len(ell)-len(pars)))"
   ]
  },
  {
   "cell_type": "markdown",
   "metadata": {},
   "source": [
    "The reduced chi-square is 6.10 which considerably bigger than 1 indicated poor fit. Now let's do the other parameters in the problem set pdf."
   ]
  },
  {
   "cell_type": "code",
   "execution_count": 14,
   "metadata": {},
   "outputs": [
    {
     "name": "stdout",
     "output_type": "stream",
     "text": [
      "Chi-square = 3272.2053559202186\n",
      "Reduced chi-square 1.308358798848548\n"
     ]
    }
   ],
   "source": [
    "#Reduced chi-square\n",
    "pars = ([69, 0.022, 0.12,\n",
    "0.06, 2.1e-9, 0.95])\n",
    "\n",
    "print(\"Chi-square =\", chi_sq(pars,errs,spec))\n",
    "print(\"Reduced chi-square\",chi_sq(pars,errs,spec)/(len(ell)-len(pars)))"
   ]
  },
  {
   "cell_type": "markdown",
   "metadata": {},
   "source": [
    "Now the reduced chi-square went down to 1.31. This suggest that the fit is acceptable but is not capturing all the information."
   ]
  },
  {
   "cell_type": "markdown",
   "metadata": {},
   "source": [
    "Question 2"
   ]
  },
  {
   "cell_type": "code",
   "execution_count": 33,
   "metadata": {},
   "outputs": [
    {
     "name": "stdout",
     "output_type": "stream",
     "text": [
      "Chi-square = 2581.2261695239367\n",
      "Reduced chi-square 1.0320776367548727\n"
     ]
    }
   ],
   "source": [
    "#guess parameters\n",
    "pars=np.asarray([69, 0.022, 0.12,0.06, 2.1e-9, 0.95])\n",
    "\n",
    "#Assuming unccorolated noise our noise matrix is \n",
    "#simply a diagonal matrix with error^2 at on the diagonal\n",
    "#But we want want the inverse so I'll multiply by 1/errs^2\n",
    "N_inv = np.eye(len(errs))*1/errs**2\n",
    "\n",
    "#Calling newton\n",
    "pars, cov = newton(get_spectrum,pars,N_inv,pars*1e-8,ell,spec)\n",
    "\n",
    "print(\"Chi-square =\", chi_sq(pars,errs,spec))\n",
    "print(\"Reduced chi-square\",chi_sq(pars,errs,spec)/(len(ell)-len(pars)))"
   ]
  },
  {
   "cell_type": "code",
   "execution_count": 43,
   "metadata": {},
   "outputs": [],
   "source": [
    "file1 = open(\"planck_fit_params.txt\", \"w\")\n",
    "file1.write(str(pars))\n",
    "file1.write(str(cov))\n",
    "file1.close()"
   ]
  },
  {
   "cell_type": "markdown",
   "metadata": {},
   "source": [
    "Q3"
   ]
  },
  {
   "cell_type": "code",
   "execution_count": null,
   "metadata": {},
   "outputs": [],
   "source": [
    "#chain, chisq = mcmc(chi_sq,pars,cov,spec,errs)\n",
    "#np.savetxt(\"chain.csv\", chain)\n",
    "#np.savetxt(\"chisq.csv\", chain)"
   ]
  },
  {
   "cell_type": "code",
   "execution_count": 81,
   "metadata": {},
   "outputs": [],
   "source": [
    "chain = np.loadtxt(\"chain_FirstRun.csv\")\n",
    "chain0,chain1,chain2,chain3,chain4,chain5 = chain.T\n",
    "chisq = np.loadtxt(\"chisq_FirstRun.csv\")\n",
    "whole = np.array([chain0,chain1,chain2,chain3,chain4,chain5,chisq])\n",
    "#np.savetxt(\"planck_chain.txt\", whole)\n",
    "pars = np.mean(whole[0:-1], axis=1)\n",
    "denominator = np.sqrt(len(chisq))\n",
    "error = np.std(whole[0:-1], axis=1)/denominator"
   ]
  },
  {
   "cell_type": "code",
   "execution_count": 82,
   "metadata": {},
   "outputs": [
    {
     "data": {
      "text/plain": [
       "[<matplotlib.lines.Line2D at 0x1f5b0880be0>]"
      ]
     },
     "execution_count": 82,
     "metadata": {},
     "output_type": "execute_result"
    },
    {
     "data": {
      "image/png": "[encoded data removed]",
      "text/plain": [
       "<Figure size 432x288 with 1 Axes>"
      ]
     },
     "metadata": {
      "needs_background": "light"
     },
     "output_type": "display_data"
    }
   ],
   "source": [
    "plt.title(\"Chain for tau with the cov matrix from newton\", fontsize= 16)\n",
    "plt.xlabel(\"number of steps\", fontsize = 16)\n",
    "plt.ylabel(\"Value of tau\", fontsize=16)\n",
    "plt.plot(chain3)"
   ]
  },
  {
   "cell_type": "markdown",
   "metadata": {},
   "source": [
    "We see that the chain oscillates about one value and does not wander off. This means that the chain has has converged"
   ]
  },
  {
   "cell_type": "code",
   "execution_count": 83,
   "metadata": {},
   "outputs": [
    {
     "name": "stdout",
     "output_type": "stream",
     "text": [
      "Parameters given by the mcmc\n",
      "H0 = 68.348256525103 +/- 0.0075806759129098435\n",
      "omh2 = 0.022351503254201308 +/- 1.655187315161518e-06\n",
      "omch2 = 0.11740554230237912 +/- 1.6185176012700788e-05\n",
      "tau = 0.0853650496499402 +/- 0.0002097223743265108\n",
      "As = 2.220842282480639e-09 +/- 8.824630998696486e-13\n",
      "ns = 0.9740768880149552 +/- 4.07594619545541e-05\n"
     ]
    }
   ],
   "source": [
    "print(\"Parameters given by the mcmc\")\n",
    "print(\"H0 =\", pars[0], \"+/-\", error[0])\n",
    "print(\"omh2 =\", pars[1], \"+/-\", error[1])\n",
    "print(\"omch2 =\", pars[2], \"+/-\", error[2])\n",
    "print(\"tau =\", pars[3], \"+/-\", error[3])\n",
    "print(\"As =\", pars[4], \"+/-\", error[4])\n",
    "print(\"ns =\", pars[5], \"+/-\", error[5])"
   ]
  },
  {
   "cell_type": "code",
   "execution_count": 57,
   "metadata": {},
   "outputs": [
    {
     "name": "stdout",
     "output_type": "stream",
     "text": [
      "$\\Omega_{\\lamda}$= 0.7008294570418214 +/- 3.7542607530781973e-06\n"
     ]
    }
   ],
   "source": [
    "matiere_obscure, erreur = dark_energy(pars,error)\n",
    "print(\"$\\Omega_{\\lamda}$=\", matiere_obscure, \"+/-\", erreur)"
   ]
  },
  {
   "cell_type": "markdown",
   "metadata": {},
   "source": [
    "Q4"
   ]
  },
  {
   "cell_type": "code",
   "execution_count": 74,
   "metadata": {},
   "outputs": [],
   "source": [
    "chain = np.loadtxt(\"chain_FirstRun.csv\")\n",
    "chisq = np.loadtxt(\"chisq_FirstRun.csv\")"
   ]
  },
  {
   "cell_type": "markdown",
   "metadata": {},
   "source": [
    "So first let's do the importance sampling. To re-weigh, I am going to use a gaussian distribution with a mean about 0.054 and a sigma of 0.0074. I mulitply the chisq by the probability of the tau at each sample using the gaussian distro."
   ]
  },
  {
   "cell_type": "code",
   "execution_count": 75,
   "metadata": {},
   "outputs": [],
   "source": [
    "w = chisq*gaussian(chain[0:,3], 0.054,0.0074)\n",
    "\n",
    "pars = np.empty(6)\n",
    "error = np.empty(6)\n",
    "n = len(spec)\n",
    "for i in range(len(pars)):\n",
    "    pars[i] = np.average(chain[0:,i], weights=w)\n",
    "    error[i] = weighted_std(chain[0:,i],w)/np.sqrt(n)\n",
    " \n",
    "\n",
    "cov = np.cov(chain.T, aweights=w)"
   ]
  },
  {
   "cell_type": "code",
   "execution_count": 76,
   "metadata": {},
   "outputs": [
    {
     "name": "stdout",
     "output_type": "stream",
     "text": [
      "Parameters given by importance sampling\n",
      "H0 = 67.89742146356934 +/- 0.01801458842996495\n",
      "omh2 = 0.022296154798489586 +/- 4.547847837653612e-06\n",
      "omch2 = 0.11837196183345552 +/- 3.841209778909705e-05\n",
      "tau = 0.055909991941516475 +/- 0.00014092968159653413\n",
      "As = 2.096284118154914e-09 +/- 6.015462803469602e-13\n",
      "ns = 0.971347383243812 +/- 9.089352214724177e-05\n"
     ]
    }
   ],
   "source": [
    "print(\"Parameters given by importance sampling\")\n",
    "print(\"H0 =\", pars[0], \"+/-\", error[0])\n",
    "print(\"omh2 =\", pars[1], \"+/-\", error[1])\n",
    "print(\"omch2 =\", pars[2], \"+/-\", error[2])\n",
    "print(\"tau =\", pars[3], \"+/-\", error[3])\n",
    "print(\"As =\", pars[4], \"+/-\", error[4])\n",
    "print(\"ns =\", pars[5], \"+/-\", error[5])"
   ]
  },
  {
   "cell_type": "markdown",
   "metadata": {},
   "source": [
    "Using the importance sampling we get a value on tau much closer to the 0.054 than with a equal weights average"
   ]
  },
  {
   "cell_type": "code",
   "execution_count": 31,
   "metadata": {},
   "outputs": [],
   "source": [
    "#chain, chisq = mcmc(constraint_chi_sq,pars,cov,spec,errs)"
   ]
  },
  {
   "cell_type": "code",
   "execution_count": 32,
   "metadata": {},
   "outputs": [],
   "source": [
    "#np.savetxt(\"chain_NewConstraint.csv\", chain)\n",
    "#np.savetxt(\"chisq_NewConstrain.csv\", chisq)"
   ]
  },
  {
   "cell_type": "code",
   "execution_count": 77,
   "metadata": {},
   "outputs": [],
   "source": [
    "chain = np.loadtxt(\"chain_NewConstraint.csv\")\n",
    "chisq = np.loadtxt(\"chisq_NewConstrain.csv\")"
   ]
  },
  {
   "cell_type": "code",
   "execution_count": 78,
   "metadata": {},
   "outputs": [
    {
     "data": {
      "text/plain": [
       "[<matplotlib.lines.Line2D at 0x1f5b087caf0>]"
      ]
     },
     "execution_count": 78,
     "metadata": {},
     "output_type": "execute_result"
    },
    {
     "data": {
      "image/png": "[encoded data removed]",
      "text/plain": [
       "<Figure size 432x288 with 1 Axes>"
      ]
     },
     "metadata": {
      "needs_background": "light"
     },
     "output_type": "display_data"
    }
   ],
   "source": [
    "plt.title(\"Chain for tau with constrained chi-square fct\", fontsize= 16)\n",
    "plt.xlabel(\"number of steps\", fontsize = 16)\n",
    "plt.ylabel(\"Value of tau\", fontsize=16)\n",
    "plt.plot(chain[:,3])"
   ]
  },
  {
   "cell_type": "code",
   "execution_count": 79,
   "metadata": {},
   "outputs": [],
   "source": [
    "pars = np.empty(6)\n",
    "error = np.empty(6)\n",
    "denominator = np.sqrt(len(spec))\n",
    "for i in range(len(pars)):\n",
    "    pars[i] = np.average(chain[0:,i])\n",
    "    error[i] = np.std(chain[0:,i])/denominator"
   ]
  },
  {
   "cell_type": "code",
   "execution_count": 80,
   "metadata": {},
   "outputs": [
    {
     "name": "stdout",
     "output_type": "stream",
     "text": [
      "Parameters given by constrained \n",
      "H0 = 67.72246602873166 +/- 0.019411267072316444\n",
      "omh2 = 0.022289497112099634 +/- 4.276093498624061e-06\n",
      "omch2 = 0.11884210031908733 +/- 4.3721039946382435e-05\n",
      "tau = 0.056046795156113306 +/- 0.00014147867752628627\n",
      "As = 2.099679828289975e-09 +/- 6.148554549033055e-13\n",
      "ns = 0.9700726926016747 +/- 0.00010703638526056257\n"
     ]
    }
   ],
   "source": [
    "print(\"Parameters given by constrained \")\n",
    "print(\"H0 =\", pars[0], \"+/-\", error[0])\n",
    "print(\"omh2 =\", pars[1], \"+/-\", error[1])\n",
    "print(\"omch2 =\", pars[2], \"+/-\", error[2])\n",
    "print(\"tau =\", pars[3], \"+/-\", error[3])\n",
    "print(\"As =\", pars[4], \"+/-\", error[4])\n",
    "print(\"ns =\", pars[5], \"+/-\", error[5])"
   ]
  }
 ],
 "metadata": {
  "kernelspec": {
   "display_name": "Python 3.9.12 ('base')",
   "language": "python",
   "name": "python3"
  },
  "language_info": {
   "codemirror_mode": {
    "name": "ipython",
    "version": 3
   },
   "file_extension": ".py",
   "mimetype": "text/x-python",
   "name": "python",
   "nbconvert_exporter": "python",
   "pygments_lexer": "ipython3",
   "version": "3.9.12"
  },
  "orig_nbformat": 4,
  "vscode": {
   "interpreter": {
    "hash": "e9ce2dd4416f9f978792fd09602620adf87f44287733915ff5f924f311bc8339"
   }
  }
 },
 "nbformat": 4,
 "nbformat_minor": 2
}
