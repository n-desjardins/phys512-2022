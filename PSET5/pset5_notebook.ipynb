{
 "cells": [
  {
   "cell_type": "code",
   "execution_count": 12,
   "metadata": {},
   "outputs": [],
   "source": [
    "import numpy as np\n",
    "import camb\n",
    "from matplotlib import pyplot as plt\n",
    "import time\n",
    "import autograd as ad"
   ]
  },
  {
   "cell_type": "code",
   "execution_count": 13,
   "metadata": {},
   "outputs": [],
   "source": [
    "#cosmic model \n",
    "def get_spectrum(pars,data_lenght,lmax=3000):\n",
    "    H0=pars[0]\n",
    "    ombh2=pars[1]\n",
    "    omch2=pars[2]\n",
    "    tau=pars[3]\n",
    "    As=pars[4]\n",
    "    ns=pars[5]\n",
    "    pars=camb.CAMBparams()\n",
    "    pars.set_cosmology(H0=H0,ombh2=ombh2,omch2=omch2,mnu=0.06,omk=0,tau=tau)\n",
    "    pars.InitPower.set_params(As=As,ns=ns,r=0)\n",
    "    pars.set_for_lmax(lmax,lens_potential_accuracy=0)\n",
    "    results=camb.get_results(pars)\n",
    "    powers=results.get_cmb_power_spectra(pars,CMB_unit='muK')\n",
    "    cmb=powers['total']\n",
    "    tt=cmb[:,0]    #you could return the full power spectrum here if you wanted to do say EE\n",
    "    return tt[2:][:data_lenght]"
   ]
  },
  {
   "cell_type": "code",
   "execution_count": 14,
   "metadata": {},
   "outputs": [],
   "source": [
    "#We use this to compute the Jacobian \n",
    "#It uses the central difference method\n",
    "def central_diff(fun,pars,dp,x):\n",
    "\n",
    "    data_lenght = len(x)\n",
    "\n",
    "    #Initialzaing the A\n",
    "    A=np.empty([data_lenght,len(pars)])\n",
    "\n",
    "    #We want the partial with respect to each parameter\n",
    "    #So we loop over each parameter\n",
    "    for i in range(len(pars)):\n",
    "        p_copy=pars.copy() #copying the paramater array \n",
    "\n",
    "        #Foward step f(x+dx)\n",
    "        p_copy[i]=pars[i]+dp[i]\n",
    "        foward_step=fun(p_copy,data_lenght)\n",
    "\n",
    "        #Backward step f(x-dx)\n",
    "        p_copy[i]=pars[i]-dp[i]\n",
    "        backward_step=fun(p_copy, data_lenght)\n",
    "\n",
    "        #Central difference\n",
    "        A[:,i]=(foward_step-backward_step)/(2*dp[i])\n",
    "    return A"
   ]
  },
  {
   "cell_type": "code",
   "execution_count": 15,
   "metadata": {},
   "outputs": [],
   "source": [
    "#This perfroms Gauss-Newton method\n",
    "def newton(fun,pars,N_inv,dp,x,y,niter=20):\n",
    "\n",
    "    data_lenght = len(x)\n",
    "\n",
    "    for i in range(niter):\n",
    "\n",
    "        #Coputing residuals\n",
    "        pred=fun(pars,data_lenght)\n",
    "        r=y-pred\n",
    "\n",
    "        #Compute Jacobian\n",
    "        J=central_diff(fun,pars,dp,x)\n",
    "\n",
    "        #The next step is equal to (J^T*N*J)*(J^T*N*resdiuals)^-1\n",
    "        #As seen in class\n",
    "        lhs=J.T@N_inv@J\n",
    "        rhs=J.T@N_inv@r\n",
    "        cov = np.linalg.inv(lhs)\n",
    "        step=cov@rhs\n",
    "\n",
    "        #Increasing parameters by next step \n",
    "        pars=pars+step\n",
    "        \n",
    "    return pars, cov"
   ]
  },
  {
   "cell_type": "code",
   "execution_count": 16,
   "metadata": {},
   "outputs": [],
   "source": [
    "#This return the chi square of our model\n",
    "#provided the parameters \n",
    "def chi_sq(parms,errs,y):\n",
    "    data_lenght = len(y)\n",
    "    resid = y-get_spectrum(parms, data_lenght)\n",
    "    return np.sum((resid/errs)**2)"
   ]
  },
  {
   "cell_type": "code",
   "execution_count": 17,
   "metadata": {},
   "outputs": [],
   "source": [
    "def get_step(trial_step):\n",
    "        L=np.linalg.cholesky(trial_step)\n",
    "        return L@np.random.randn(trial_step.shape[0])"
   ]
  },
  {
   "cell_type": "code",
   "execution_count": 19,
   "metadata": {},
   "outputs": [],
   "source": [
    "def mcmc(fun,running_pars,trial_step,data,err,nstep=20000,T=1):\n",
    "\n",
    "    #Initializing the arrays that is going to keep \n",
    "    # a history of our chain anc chi-square\n",
    "    chain_history=np.zeros([nstep,len(running_pars)])\n",
    "    chain_history[0,:]=running_pars #First element is our guess parameters\n",
    "\n",
    "    chisq_history=np.zeros(nstep)\n",
    "    running_chi=fun(running_pars,err,data)\n",
    "    chisq_history[0]=running_chi  #First element is the chi-square evaluated \n",
    "    #with our guess parameter\n",
    "\n",
    "    for i in range(1,nstep):\n",
    "\n",
    "        #Add a step to our parameters using a step maker function\n",
    "        new_pars=running_pars+get_step(trial_step)\n",
    "\n",
    "        #Compute chi-square with new parameters \n",
    "        new_chi=fun(new_pars,err,data)\n",
    "\n",
    "        #Check with accept the step using the formula from class\n",
    "        accept_prob=np.exp(-0.5*(new_chi-running_chi)/T)\n",
    "        if np.random.rand(1)<accept_prob:\n",
    "            running_pars=new_pars\n",
    "            running_chi=new_chi\n",
    "        \n",
    "        #If the the step got accepted the next element in our history\n",
    "        # is the this new step otherwise it's just the previous one \n",
    "        chain_history[i,:]=running_pars\n",
    "        chisq_history[i]=running_chi\n",
    "\n",
    "\n",
    "    return chain_history,chisq_history"
   ]
  },
  {
   "cell_type": "markdown",
   "metadata": {},
   "source": [
    "Question 2"
   ]
  },
  {
   "cell_type": "code",
   "execution_count": 9,
   "metadata": {},
   "outputs": [],
   "source": [
    "pars=np.asarray([69, 0.022, 0.12,0.06, 2.1e-9, 0.95])\n",
    "planck=np.loadtxt('COM_PowerSpect_CMB-TT-full_R3.01.txt',skiprows=1)\n",
    "ell=planck[:,0]\n",
    "spec=planck[:,1]\n",
    "errs=0.5*(planck[:,2]+planck[:,3])\n",
    "\n",
    "#Assuming unccorolated noise our noise matrix is \n",
    "#simply a diagonal matrix with error^2 at on the diagonal\n",
    "#But we want want the inverse so I'll multiply by 1/errs^2\n",
    "N_inv = np.eye(len(errs))*1/errs**2\n",
    "\n",
    "\n",
    "pars, cov = newton(get_spectrum,pars,N_inv,pars*1e-8,ell,spec)\n"
   ]
  },
  {
   "cell_type": "code",
   "execution_count": 10,
   "metadata": {},
   "outputs": [],
   "source": [
    "np.savetxt(\"newton_params.csv\", pars)\n",
    "np.savetxt(\"newton_params.csv\", cov)"
   ]
  },
  {
   "cell_type": "code",
   "execution_count": 21,
   "metadata": {},
   "outputs": [
    {
     "ename": "KeyboardInterrupt",
     "evalue": "",
     "output_type": "error",
     "traceback": [
      "\u001b[1;31m---------------------------------------------------------------------------\u001b[0m",
      "\u001b[1;31mKeyboardInterrupt\u001b[0m                         Traceback (most recent call last)",
      "\u001b[1;32mc:\\Users\\nicol\\Documents\\myCompPhysRepo\\phys512-2022\\PSET5\\pset5_notebook.ipynb Cell 11\u001b[0m in \u001b[0;36m<cell line: 1>\u001b[1;34m()\u001b[0m\n\u001b[1;32m----> <a href='vscode-notebook-cell:/c%3A/Users/nicol/Documents/myCompPhysRepo/phys512-2022/PSET5/pset5_notebook.ipynb#X13sZmlsZQ%3D%3D?line=0'>1</a>\u001b[0m chain, chisq \u001b[39m=\u001b[39m mcmc(chi_sq,pars,cov,spec,errs)\n",
      "\u001b[1;32mc:\\Users\\nicol\\Documents\\myCompPhysRepo\\phys512-2022\\PSET5\\pset5_notebook.ipynb Cell 11\u001b[0m in \u001b[0;36mmcmc\u001b[1;34m(fun, running_pars, trial_step, data, err, nstep, T)\u001b[0m\n\u001b[0;32m     <a href='vscode-notebook-cell:/c%3A/Users/nicol/Documents/myCompPhysRepo/phys512-2022/PSET5/pset5_notebook.ipynb#X13sZmlsZQ%3D%3D?line=15'>16</a>\u001b[0m new_pars\u001b[39m=\u001b[39mrunning_pars\u001b[39m+\u001b[39mget_step(trial_step)\n\u001b[0;32m     <a href='vscode-notebook-cell:/c%3A/Users/nicol/Documents/myCompPhysRepo/phys512-2022/PSET5/pset5_notebook.ipynb#X13sZmlsZQ%3D%3D?line=17'>18</a>\u001b[0m \u001b[39m#Compute chi-square with new parameters \u001b[39;00m\n\u001b[1;32m---> <a href='vscode-notebook-cell:/c%3A/Users/nicol/Documents/myCompPhysRepo/phys512-2022/PSET5/pset5_notebook.ipynb#X13sZmlsZQ%3D%3D?line=18'>19</a>\u001b[0m new_chi\u001b[39m=\u001b[39mfun(new_pars,err,data)\n\u001b[0;32m     <a href='vscode-notebook-cell:/c%3A/Users/nicol/Documents/myCompPhysRepo/phys512-2022/PSET5/pset5_notebook.ipynb#X13sZmlsZQ%3D%3D?line=20'>21</a>\u001b[0m \u001b[39m#Check with accept the step using the formula from class\u001b[39;00m\n\u001b[0;32m     <a href='vscode-notebook-cell:/c%3A/Users/nicol/Documents/myCompPhysRepo/phys512-2022/PSET5/pset5_notebook.ipynb#X13sZmlsZQ%3D%3D?line=21'>22</a>\u001b[0m accept_prob\u001b[39m=\u001b[39mnp\u001b[39m.\u001b[39mexp(\u001b[39m-\u001b[39m\u001b[39m0.5\u001b[39m\u001b[39m*\u001b[39m(new_chi\u001b[39m-\u001b[39mrunning_chi)\u001b[39m/\u001b[39mT)\n",
      "\u001b[1;32mc:\\Users\\nicol\\Documents\\myCompPhysRepo\\phys512-2022\\PSET5\\pset5_notebook.ipynb Cell 11\u001b[0m in \u001b[0;36mchi_sq\u001b[1;34m(parms, errs, y)\u001b[0m\n\u001b[0;32m      <a href='vscode-notebook-cell:/c%3A/Users/nicol/Documents/myCompPhysRepo/phys512-2022/PSET5/pset5_notebook.ipynb#X13sZmlsZQ%3D%3D?line=2'>3</a>\u001b[0m \u001b[39mdef\u001b[39;00m \u001b[39mchi_sq\u001b[39m(parms,errs,y):\n\u001b[0;32m      <a href='vscode-notebook-cell:/c%3A/Users/nicol/Documents/myCompPhysRepo/phys512-2022/PSET5/pset5_notebook.ipynb#X13sZmlsZQ%3D%3D?line=3'>4</a>\u001b[0m     data_lenght \u001b[39m=\u001b[39m \u001b[39mlen\u001b[39m(y)\n\u001b[1;32m----> <a href='vscode-notebook-cell:/c%3A/Users/nicol/Documents/myCompPhysRepo/phys512-2022/PSET5/pset5_notebook.ipynb#X13sZmlsZQ%3D%3D?line=4'>5</a>\u001b[0m     resid \u001b[39m=\u001b[39m y\u001b[39m-\u001b[39mget_spectrum(parms, data_lenght)\n\u001b[0;32m      <a href='vscode-notebook-cell:/c%3A/Users/nicol/Documents/myCompPhysRepo/phys512-2022/PSET5/pset5_notebook.ipynb#X13sZmlsZQ%3D%3D?line=5'>6</a>\u001b[0m     \u001b[39mreturn\u001b[39;00m np\u001b[39m.\u001b[39msum((resid\u001b[39m/\u001b[39merrs)\u001b[39m*\u001b[39m\u001b[39m*\u001b[39m\u001b[39m2\u001b[39m)\n",
      "\u001b[1;32mc:\\Users\\nicol\\Documents\\myCompPhysRepo\\phys512-2022\\PSET5\\pset5_notebook.ipynb Cell 11\u001b[0m in \u001b[0;36mget_spectrum\u001b[1;34m(pars, data_lenght, lmax)\u001b[0m\n\u001b[0;32m     <a href='vscode-notebook-cell:/c%3A/Users/nicol/Documents/myCompPhysRepo/phys512-2022/PSET5/pset5_notebook.ipynb#X13sZmlsZQ%3D%3D?line=10'>11</a>\u001b[0m pars\u001b[39m.\u001b[39mInitPower\u001b[39m.\u001b[39mset_params(As\u001b[39m=\u001b[39mAs,ns\u001b[39m=\u001b[39mns,r\u001b[39m=\u001b[39m\u001b[39m0\u001b[39m)\n\u001b[0;32m     <a href='vscode-notebook-cell:/c%3A/Users/nicol/Documents/myCompPhysRepo/phys512-2022/PSET5/pset5_notebook.ipynb#X13sZmlsZQ%3D%3D?line=11'>12</a>\u001b[0m pars\u001b[39m.\u001b[39mset_for_lmax(lmax,lens_potential_accuracy\u001b[39m=\u001b[39m\u001b[39m0\u001b[39m)\n\u001b[1;32m---> <a href='vscode-notebook-cell:/c%3A/Users/nicol/Documents/myCompPhysRepo/phys512-2022/PSET5/pset5_notebook.ipynb#X13sZmlsZQ%3D%3D?line=12'>13</a>\u001b[0m results\u001b[39m=\u001b[39mcamb\u001b[39m.\u001b[39;49mget_results(pars)\n\u001b[0;32m     <a href='vscode-notebook-cell:/c%3A/Users/nicol/Documents/myCompPhysRepo/phys512-2022/PSET5/pset5_notebook.ipynb#X13sZmlsZQ%3D%3D?line=13'>14</a>\u001b[0m powers\u001b[39m=\u001b[39mresults\u001b[39m.\u001b[39mget_cmb_power_spectra(pars,CMB_unit\u001b[39m=\u001b[39m\u001b[39m'\u001b[39m\u001b[39mmuK\u001b[39m\u001b[39m'\u001b[39m)\n\u001b[0;32m     <a href='vscode-notebook-cell:/c%3A/Users/nicol/Documents/myCompPhysRepo/phys512-2022/PSET5/pset5_notebook.ipynb#X13sZmlsZQ%3D%3D?line=14'>15</a>\u001b[0m cmb\u001b[39m=\u001b[39mpowers[\u001b[39m'\u001b[39m\u001b[39mtotal\u001b[39m\u001b[39m'\u001b[39m]\n",
      "File \u001b[1;32mc:\\Users\\nicol\\Anaconda3\\lib\\site-packages\\camb\\camb.py:35\u001b[0m, in \u001b[0;36mget_results\u001b[1;34m(params)\u001b[0m\n\u001b[0;32m     33\u001b[0m \u001b[39mif\u001b[39;00m _debug_params:\n\u001b[0;32m     34\u001b[0m     \u001b[39mprint\u001b[39m(params)\n\u001b[1;32m---> 35\u001b[0m res\u001b[39m.\u001b[39;49mcalc_power_spectra(params)\n\u001b[0;32m     36\u001b[0m \u001b[39mreturn\u001b[39;00m res\n",
      "File \u001b[1;32mc:\\Users\\nicol\\Anaconda3\\lib\\site-packages\\camb\\results.py:333\u001b[0m, in \u001b[0;36mCAMBdata.calc_power_spectra\u001b[1;34m(self, params)\u001b[0m\n\u001b[0;32m    326\u001b[0m \u001b[39m\"\"\"\u001b[39;00m\n\u001b[0;32m    327\u001b[0m \u001b[39mCalculates transfer functions and power spectra.\u001b[39;00m\n\u001b[0;32m    328\u001b[0m \n\u001b[0;32m    329\u001b[0m \u001b[39m:param params: optional :class:`~.model.CAMBparams` instance with parameters to use\u001b[39;00m\n\u001b[0;32m    330\u001b[0m \n\u001b[0;32m    331\u001b[0m \u001b[39m\"\"\"\u001b[39;00m\n\u001b[0;32m    332\u001b[0m \u001b[39mif\u001b[39;00m params \u001b[39mis\u001b[39;00m \u001b[39mnot\u001b[39;00m \u001b[39mNone\u001b[39;00m:\n\u001b[1;32m--> 333\u001b[0m     \u001b[39mself\u001b[39;49m\u001b[39m.\u001b[39;49mcalc_transfers(params, only_transfers\u001b[39m=\u001b[39;49m\u001b[39mFalse\u001b[39;49;00m)\n\u001b[0;32m    334\u001b[0m \u001b[39melse\u001b[39;00m:\n\u001b[0;32m    335\u001b[0m     \u001b[39mself\u001b[39m\u001b[39m.\u001b[39m_check_powers()\n",
      "File \u001b[1;32mc:\\Users\\nicol\\Anaconda3\\lib\\site-packages\\camb\\results.py:313\u001b[0m, in \u001b[0;36mCAMBdata.calc_transfers\u001b[1;34m(self, params, only_transfers, only_time_sources)\u001b[0m\n\u001b[0;32m    311\u001b[0m \u001b[39mif\u001b[39;00m \u001b[39mnot\u001b[39;00m (only_transfers \u001b[39mor\u001b[39;00m only_time_sources):\n\u001b[0;32m    312\u001b[0m     \u001b[39mself\u001b[39m\u001b[39m.\u001b[39m_check_powers(params)\n\u001b[1;32m--> 313\u001b[0m \u001b[39mif\u001b[39;00m CAMBdata_gettransfers(byref(\u001b[39mself\u001b[39;49m), byref(params), byref(c_int(\u001b[39m1\u001b[39;49m \u001b[39mif\u001b[39;49;00m only_transfers \u001b[39melse\u001b[39;49;00m \u001b[39m0\u001b[39;49m)),\n\u001b[0;32m    314\u001b[0m                          byref(c_int(\u001b[39m1\u001b[39;49m \u001b[39mif\u001b[39;49;00m only_time_sources \u001b[39melse\u001b[39;49;00m \u001b[39m0\u001b[39;49m))):\n\u001b[0;32m    315\u001b[0m     config\u001b[39m.\u001b[39mcheck_global_error(\u001b[39m'\u001b[39m\u001b[39mcalc_transfer\u001b[39m\u001b[39m'\u001b[39m)\n",
      "\u001b[1;31mKeyboardInterrupt\u001b[0m: "
     ]
    }
   ],
   "source": [
    "chain, chisq = mcmc(chi_sq,pars,cov,spec,errs)"
   ]
  },
  {
   "cell_type": "code",
   "execution_count": null,
   "metadata": {},
   "outputs": [],
   "source": [
    "np.savetxt(\"chain.csv\", chain)\n",
    "np.savetxt(\"chisq.csv\", chisq)"
   ]
  }
 ],
 "metadata": {
  "kernelspec": {
   "display_name": "Python 3.9.12 ('base')",
   "language": "python",
   "name": "python3"
  },
  "language_info": {
   "codemirror_mode": {
    "name": "ipython",
    "version": 3
   },
   "file_extension": ".py",
   "mimetype": "text/x-python",
   "name": "python",
   "nbconvert_exporter": "python",
   "pygments_lexer": "ipython3",
   "version": "3.9.12"
  },
  "orig_nbformat": 4,
  "vscode": {
   "interpreter": {
    "hash": "e9ce2dd4416f9f978792fd09602620adf87f44287733915ff5f924f311bc8339"
   }
  }
 },
 "nbformat": 4,
 "nbformat_minor": 2
}
