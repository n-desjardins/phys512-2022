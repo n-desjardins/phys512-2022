{
 "cells": [
  {
   "cell_type": "code",
   "execution_count": 52,
   "metadata": {},
   "outputs": [],
   "source": [
    "import numpy as np\n",
    "import camb\n",
    "from matplotlib import pyplot as plt\n",
    "import time\n",
    "import autograd as ad"
   ]
  },
  {
   "cell_type": "code",
   "execution_count": 53,
   "metadata": {},
   "outputs": [],
   "source": [
    "#cosmic model \n",
    "def get_spectrum(pars,data_lenght,lmax=3000):\n",
    "    H0=pars[0]\n",
    "    ombh2=pars[1]\n",
    "    omch2=pars[2]\n",
    "    tau=pars[3]\n",
    "    As=pars[4]\n",
    "    ns=pars[5]\n",
    "    pars=camb.CAMBparams()\n",
    "    pars.set_cosmology(H0=H0,ombh2=ombh2,omch2=omch2,mnu=0.06,omk=0,tau=tau)\n",
    "    pars.InitPower.set_params(As=As,ns=ns,r=0)\n",
    "    pars.set_for_lmax(lmax,lens_potential_accuracy=0)\n",
    "    results=camb.get_results(pars)\n",
    "    powers=results.get_cmb_power_spectra(pars,CMB_unit='muK')\n",
    "    cmb=powers['total']\n",
    "    tt=cmb[:,0]    #you could return the full power spectrum here if you wanted to do say EE\n",
    "    return tt[2:][:data_lenght]"
   ]
  },
  {
   "cell_type": "code",
   "execution_count": 54,
   "metadata": {},
   "outputs": [],
   "source": [
    "#We use this to compute the Jacobian \n",
    "#It uses the central difference method\n",
    "def central_diff(fun,pars,dp,x):\n",
    "\n",
    "    data_lenght = len(x)\n",
    "\n",
    "    #Initialzaing the A\n",
    "    A=np.empty([data_lenght,len(pars)])\n",
    "\n",
    "    #We want the partial with respect to each parameter\n",
    "    #So we loop over each parameter\n",
    "    for i in range(len(pars)):\n",
    "        p_copy=pars.copy() #copying the paramater array \n",
    "\n",
    "        #Foward step f(x+dx)\n",
    "        p_copy[i]=pars[i]+dp[i]\n",
    "        foward_step=fun(p_copy,data_lenght)\n",
    "\n",
    "        #Backward step f(x-dx)\n",
    "        p_copy[i]=pars[i]-dp[i]\n",
    "        backward_step=fun(p_copy, data_lenght)\n",
    "\n",
    "        #Central difference\n",
    "        A[:,i]=(foward_step-backward_step)/(2*dp[i])\n",
    "    return A"
   ]
  },
  {
   "cell_type": "code",
   "execution_count": 55,
   "metadata": {},
   "outputs": [],
   "source": [
    "#This perfroms Gauss-Newton method\n",
    "def newton(fun,pars,N_inv,dp,x,y,niter=20):\n",
    "\n",
    "    data_lenght = len(x)\n",
    "\n",
    "    for i in range(niter):\n",
    "\n",
    "        #Coputing residuals\n",
    "        pred=fun(pars,data_lenght)\n",
    "        r=y-pred\n",
    "\n",
    "        #Compute Jacobian\n",
    "        J=central_diff(fun,pars,dp,x)\n",
    "\n",
    "        #The next step is equal to (J^T*N*J)*(J^T*N*resdiuals)^-1\n",
    "        #As seen in class\n",
    "        lhs=J.T@N_inv@J\n",
    "        rhs=J.T@N_inv@r\n",
    "        cov = np.linalg.inv(lhs)\n",
    "        step=cov@rhs\n",
    "\n",
    "        #Increasing parameters by next step \n",
    "        pars=pars+step\n",
    "        \n",
    "    return pars, cov"
   ]
  },
  {
   "cell_type": "code",
   "execution_count": 56,
   "metadata": {},
   "outputs": [],
   "source": [
    "#This return the chi square of our model\n",
    "#provided the parameters \n",
    "def chi_sq(fun,parms,errs,y):\n",
    "    data_lenght = l(y)\n",
    "    resid = y-fun(parms, data_lenght)\n",
    "    return np.sum((resid/errs)**2)"
   ]
  },
  {
   "cell_type": "code",
   "execution_count": 57,
   "metadata": {},
   "outputs": [],
   "source": [
    "def get_step(trial_step):\n",
    "        L=np.linalg.cholesky(trial_step)\n",
    "        return L@np.random.randn(trial_step.shape[0])"
   ]
  },
  {
   "cell_type": "code",
   "execution_count": 58,
   "metadata": {},
   "outputs": [],
   "source": [
    "def mcmc(fun,running_pars,trial_step,data,nstep=20000,T=1):\n",
    "\n",
    "    #Initializing the arrays that is going to keep \n",
    "    # a history of our chain anc chi-square\n",
    "    chain_history=np.zeros([nstep,len(running_pars)])\n",
    "    chain_history[0,:]=running_pars #First element is our guess parameters\n",
    "\n",
    "    chisq_history=np.zeros(nstep)\n",
    "    running_chi=fun(running_pars,data)\n",
    "    chisq_history[0]=running_chi  #First element is the chi-square evaluated \n",
    "    #with our guess parameter\n",
    "\n",
    "    for i in range(1,nstep):\n",
    "\n",
    "        #Add a step to our parameters using a step maker function\n",
    "        new_pars=running_pars+get_step(trial_step)\n",
    "\n",
    "        #Compute chi-square with new parameters \n",
    "        new_chi=fun(new_pars,data)\n",
    "\n",
    "        #Check with accept the step using the formula from class\n",
    "        accept_prob=np.exp(-0.5*(new_chi-running_chi)/T)\n",
    "        if np.random.rand(1)<accept_prob:\n",
    "            running_pars=new_pars\n",
    "            running_chi=new_chi\n",
    "        \n",
    "        #If the the step got accepted the next element in our history\n",
    "        # is the this new step otherwise it's just the previous one \n",
    "        chain_history[i,:]=running_pars\n",
    "        chisq_history[i]=running_chi\n",
    "\n",
    "\n",
    "    return chain_history,chisq_history"
   ]
  },
  {
   "cell_type": "markdown",
   "metadata": {},
   "source": [
    "Question 2"
   ]
  },
  {
   "cell_type": "code",
   "execution_count": 59,
   "metadata": {},
   "outputs": [],
   "source": [
    "pars=np.asarray([69, 0.022, 0.12,0.06, 2.1e-9, 0.95])\n",
    "planck=np.loadtxt('COM_PowerSpect_CMB-TT-full_R3.01.txt',skiprows=1)\n",
    "ell=planck[:,0]\n",
    "spec=planck[:,1]\n",
    "errs=0.5*(planck[:,2]+planck[:,3])\n",
    "\n",
    "#Assuming unccorolated noise our noise matrix is \n",
    "#simply a diagonal matrix with error^2 at on the diagonal\n",
    "#But we want want the inverse so I'll multiply by 1/errs^2\n",
    "N_inv = np.eye(len(errs))*1/errs**2\n",
    "\n",
    "\n",
    "pars, cov = newton(get_spectrum,pars,N_inv,pars*1e-8,ell,spec)\n"
   ]
  },
  {
   "cell_type": "code",
   "execution_count": 69,
   "metadata": {},
   "outputs": [],
   "source": [
    "outpt= open(\"planck_fit_params.txt\", \"w\")\n",
    "outpt.write(str(pars))\n",
    "outpt.write(\"\\n\")\n",
    "for i in range(6):\n",
    "    outpt.write(str(cov[i]))\n",
    "    outpt.write(\"\\n\")\n",
    "outpt.close()"
   ]
  }
 ],
 "metadata": {
  "kernelspec": {
   "display_name": "Python 3.9.12 ('base')",
   "language": "python",
   "name": "python3"
  },
  "language_info": {
   "codemirror_mode": {
    "name": "ipython",
    "version": 3
   },
   "file_extension": ".py",
   "mimetype": "text/x-python",
   "name": "python",
   "nbconvert_exporter": "python",
   "pygments_lexer": "ipython3",
   "version": "3.9.12"
  },
  "orig_nbformat": 4,
  "vscode": {
   "interpreter": {
    "hash": "e9ce2dd4416f9f978792fd09602620adf87f44287733915ff5f924f311bc8339"
   }
  }
 },
 "nbformat": 4,
 "nbformat_minor": 2
}
