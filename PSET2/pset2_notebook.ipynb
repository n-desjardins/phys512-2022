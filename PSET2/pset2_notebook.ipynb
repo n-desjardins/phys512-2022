{
 "cells": [
  {
   "cell_type": "code",
   "execution_count": 1,
   "metadata": {},
   "outputs": [],
   "source": [
    "import numpy as np\n",
    "from scipy.integrate import quad\n",
    "from scipy.constants import epsilon_0\n",
    "import matplotlib.pyplot as plt"
   ]
  },
  {
   "cell_type": "markdown",
   "metadata": {},
   "source": [
    "Question 1"
   ]
  },
  {
   "cell_type": "code",
   "execution_count": 57,
   "metadata": {},
   "outputs": [],
   "source": [
    "#def efficient_integrate(f, a, b, eps, extra = np.array(None)):\n",
    "def efficient_integrate(f, a, b, eps, extra = np.array(None), i=0):\n",
    "\n",
    "#During the first iteration extra is empty thus needs \n",
    "#to be initialized\n",
    "    if not extra.all():\n",
    "        fa, fb, mid = f(a), f(b), (b+a)/2\n",
    "        fmid = f(mid)\n",
    "        Sim = np.abs(b-a)/ 6 * (fa + 4 * fmid + fb)\n",
    "        extra = np.array([fa, fb, Sim, mid, fmid ])\n",
    "\n",
    "    \n",
    "#The information from the prvious iteration is stored in extra \n",
    "#Here we assign variable with their values\n",
    "    fa = extra[0]\n",
    "    fb = extra[1]\n",
    "    Sim = extra[2]\n",
    "    mid = extra[3]\n",
    "    fmid = extra[4]\n",
    "\n",
    "#Computing the point between a and mid\n",
    "#and evalutaing the function at this point\n",
    "    l_mid = (mid+a)/2\n",
    "    fl_mid = f(l_mid)\n",
    "#Similarly betwenn mid and b \n",
    "    r_mid = (b+mid)/2\n",
    "    fr_mid = f(r_mid)\n",
    "\n",
    "#Simpson's rule from [a,mid]\n",
    "    Sleft = np.abs(mid-a)/6 * (fa + 4*fl_mid + fmid)\n",
    "#Simpson's rule from [mid,b]\n",
    "    Sright = np.abs(b-mid)/6*(fmid + 4*fr_mid + fb)\n",
    "\n",
    "    delta = Sleft+Sright-Sim\n",
    "    \n",
    "    i += 1\n",
    "\n",
    "    if np.abs(delta) < 15*eps:\n",
    "        print(i)\n",
    "        return (Sleft + Sright + delta / 15)\n",
    "    else:\n",
    "        return efficient_integrate(f, a, mid, eps/2, extra=np.array([fa,fmid,Sleft,l_mid,fl_mid])) +\\\n",
    "            efficient_integrate(f, mid, b, eps/2, extra=np.array([fmid,fb,Sright,r_mid,fr_mid]))"
   ]
  },
  {
   "cell_type": "code",
   "execution_count": 13,
   "metadata": {},
   "outputs": [],
   "source": [
    "def dEz_dtheta(theta,z):\n",
    "    eps = 1\n",
    "    sigma = 1\n",
    "    R = 10\n",
    "    coeff = (1/(4*np.pi*eps))*(2*np.pi*R**2*sigma)\n",
    "    integrand = ((z-R*np.cos(theta))*np.sin(theta))/(R**2 + z**2 - 2*R*z*np.cos(theta))**(3/2)\n",
    "\n",
    "    return coeff*integrand"
   ]
  },
  {
   "cell_type": "code",
   "execution_count": 14,
   "metadata": {},
   "outputs": [],
   "source": [
    "z = np.linspace(0,20,1000)\n",
    "Ez_mine = np.zeros(len(z))\n",
    "Ez_quad = np.zeros(len(z))\n",
    "\n",
    "for i in  range(len(z)):\n",
    "    def func(theta):\n",
    "        return dEz_dtheta(theta, z[i])\n",
    "\n",
    "    Ez_mine[i] += efficient_integrate(func,0,np.pi,1e-6)\n",
    "    Ez_quad[i] += quad(func,0,np.pi)[0]"
   ]
  },
  {
   "cell_type": "code",
   "execution_count": 16,
   "metadata": {},
   "outputs": [
    {
     "data": {
      "text/plain": [
       "[<matplotlib.lines.Line2D at 0x17513637430>]"
      ]
     },
     "execution_count": 16,
     "metadata": {},
     "output_type": "execute_result"
    },
    {
     "data": {
      "image/png": "[encoded data removed]",
      "text/plain": [
       "<Figure size 432x288 with 1 Axes>"
      ]
     },
     "metadata": {
      "needs_background": "light"
     },
     "output_type": "display_data"
    }
   ],
   "source": [
    "#plt.plot(z,Ez_quad)\n",
    "plt.plot(z,Ez_mine)"
   ]
  },
  {
   "cell_type": "markdown",
   "metadata": {},
   "source": [
    "Question 2"
   ]
  },
  {
   "cell_type": "code",
   "execution_count": 37,
   "metadata": {},
   "outputs": [],
   "source": [
    "def lazy_integrate(fun,a,b,tol, i=0):\n",
    "    \n",
    "    x=np.linspace(a,b,5)\n",
    "    dx=x[1]-x[0]\n",
    "    y=fun(x)\n",
    "    #do the 3-point integral\n",
    "    i1=(y[0]+4*y[2]+y[4])/3*(2*dx)\n",
    "    i2=(y[0]+4*y[1]+2*y[2]+4*y[3]+y[4])/3*dx\n",
    "    myerr=np.abs(i1-i2)\n",
    "    i+=1\n",
    "    if myerr<tol:\n",
    "        print(i)\n",
    "        return i2\n",
    "    else:\n",
    "        mid=(a+b)/2\n",
    "        int1=lazy_integrate(fun,a,mid,tol/2,i)\n",
    "        int2=lazy_integrate(fun,mid,b,tol/2,i)\n",
    "        return int1+int2"
   ]
  },
  {
   "cell_type": "code",
   "execution_count": 63,
   "metadata": {},
   "outputs": [
    {
     "name": "stdout",
     "output_type": "stream",
     "text": [
      "3\n",
      "3\n",
      "3\n",
      "3\n"
     ]
    },
    {
     "data": {
      "text/plain": [
       "0.4596977331190459"
      ]
     },
     "execution_count": 63,
     "metadata": {},
     "output_type": "execute_result"
    }
   ],
   "source": [
    "lazy_integrate(np.sin,0,1,15*1e-7)"
   ]
  },
  {
   "cell_type": "code",
   "execution_count": 64,
   "metadata": {},
   "outputs": [
    {
     "name": "stdout",
     "output_type": "stream",
     "text": [
      "1\n",
      "1\n",
      "1\n",
      "1\n"
     ]
    },
    {
     "data": {
      "text/plain": [
       "0.4596976940737515"
      ]
     },
     "execution_count": 64,
     "metadata": {},
     "output_type": "execute_result"
    }
   ],
   "source": [
    "efficient_integrate(np.sin,0,1,1e-7)"
   ]
  },
  {
   "cell_type": "code",
   "execution_count": 264,
   "metadata": {},
   "outputs": [
    {
     "data": {
      "text/plain": [
       "<matplotlib.collections.PathCollection at 0x1a0e2dd1b20>"
      ]
     },
     "execution_count": 264,
     "metadata": {},
     "output_type": "execute_result"
    },
    {
     "data": {
      "image/png": "[encoded data removed]",
      "text/plain": [
       "<Figure size 432x288 with 1 Axes>"
      ]
     },
     "metadata": {
      "needs_background": "light"
     },
     "output_type": "display_data"
    }
   ],
   "source": [
    "\n",
    "n=20\n",
    "x=np.linspace(-1,1,n)\n",
    "mat=np.polynomial.chebyshev.chebvander(x,n-1)\n",
    "fun=np.log2\n",
    "xx = np.linspace(0.5,1,n)\n",
    "y=fun(xx)\n",
    "fitp=np.linalg.inv(mat)@y\n",
    "fitp_use=fitp.copy()\n",
    "nuse=6\n",
    "fitp_use[nuse:]=0 #zero out all coefficients pass the ones we want\n",
    "pred=mat@fitp_use\n",
    "\n",
    "def range_mapping(x):\n",
    "    return 0.25*x+0.75\n",
    "\n",
    "plt.plot(xx,pred)\n",
    "plt.plot(xx, y)\n",
    "test = 0\n",
    "plt.scatter(range_mapping(test), np.polynomial.chebyshev.chebvander(test,n-1)@fitp_use)\n"
   ]
  },
  {
   "cell_type": "code",
   "execution_count": 266,
   "metadata": {},
   "outputs": [
    {
     "data": {
      "text/plain": [
       "[<matplotlib.lines.Line2D at 0x1a0e0413e20>]"
      ]
     },
     "execution_count": 266,
     "metadata": {},
     "output_type": "execute_result"
    },
    {
     "data": {
      "image/png": "[encoded data removed]",
      "text/plain": [
       "<Figure size 432x288 with 1 Axes>"
      ]
     },
     "metadata": {
      "needs_background": "light"
     },
     "output_type": "display_data"
    }
   ],
   "source": [
    "\n",
    "n=20\n",
    "x=np.linspace(-1,1,n)\n",
    "mat=np.polynomial.chebyshev.chebvander(x,n-1)\n",
    "fun=np.log2\n",
    "xx = np.linspace(0.5,1,n)\n",
    "y=fun(xx)\n",
    "fitp=np.linalg.inv(mat)@y\n",
    "fitp_use=fitp.copy()\n",
    "nuse=7\n",
    "fitp_use[nuse:]=0 #zero out all coefficients pass the ones we want\n",
    "pred=mat@fitp_use\n",
    "\n",
    "plt.plot(xx,pred-y)\n",
    "\n"
   ]
  },
  {
   "cell_type": "code",
   "execution_count": 232,
   "metadata": {},
   "outputs": [
    {
     "data": {
      "text/plain": [
       "array([-4.56893394e-01,  4.95054673e-01, -4.24689768e-02,  4.85768297e-03,\n",
       "       -6.25084976e-04,  8.57981012e-05, -1.22671891e-05,  1.80404306e-06,\n",
       "        0.00000000e+00,  0.00000000e+00,  0.00000000e+00,  0.00000000e+00,\n",
       "        0.00000000e+00,  0.00000000e+00,  0.00000000e+00,  0.00000000e+00,\n",
       "        0.00000000e+00,  0.00000000e+00,  0.00000000e+00,  0.00000000e+00])"
      ]
     },
     "execution_count": 232,
     "metadata": {},
     "output_type": "execute_result"
    }
   ],
   "source": [
    "fitp_use"
   ]
  },
  {
   "cell_type": "code",
   "execution_count": 248,
   "metadata": {},
   "outputs": [],
   "source": [
    "def mylog2(x):\n",
    "   M, E = np.frexp(x)\n",
    "   x_cheb_space = 4*M-3\n",
    "   fitp_use = np.array([-4.56893394e-01,  4.95054673e-01, -4.24689768e-02,  4.85768297e-03,\n",
    "       -6.25084976e-04,  8.57981012e-05, -1.22671891e-05, 1.80404306e-06])\n",
    "   mat=np.polynomial.chebyshev.chebvander(x_cheb_space,7)\n",
    "   return mat@fitp_use + E\n"
   ]
  },
  {
   "cell_type": "code",
   "execution_count": 249,
   "metadata": {},
   "outputs": [
    {
     "data": {
      "text/plain": [
       "3.1892064000782483e-07"
      ]
     },
     "execution_count": 249,
     "metadata": {},
     "output_type": "execute_result"
    }
   ],
   "source": [
    "x  = np.linspace(0.5,1,1000)\n",
    "y = mylog2(x)-np.log2(x)\n",
    "max(y)"
   ]
  },
  {
   "cell_type": "code",
   "execution_count": 262,
   "metadata": {},
   "outputs": [],
   "source": [
    "def mylog2(x):\n",
    "   M = x\n",
    "   x_cheb_space = 4*M-3\n",
    "   fitp_use = np.array([-4.56893394e-01,  4.95054673e-01, -4.24689768e-02,  4.85768297e-03,\n",
    "       -6.25084976e-04,  8.57981012e-05, -1.22671891e-05])\n",
    "   mat=np.polynomial.chebyshev.chebvander(x_cheb_space,6)\n",
    "   return mat@fitp_use"
   ]
  },
  {
   "cell_type": "code",
   "execution_count": 263,
   "metadata": {},
   "outputs": [
    {
     "data": {
      "text/plain": [
       "2.1229637000574897e-06"
      ]
     },
     "execution_count": 263,
     "metadata": {},
     "output_type": "execute_result"
    }
   ],
   "source": [
    "x  = np.linspace(0.5,1,1000)\n",
    "y = mylog2(x)-np.log2(x)\n",
    "max(y)"
   ]
  }
 ],
 "metadata": {
  "kernelspec": {
   "display_name": "Python 3.9.12 ('base')",
   "language": "python",
   "name": "python3"
  },
  "language_info": {
   "codemirror_mode": {
    "name": "ipython",
    "version": 3
   },
   "file_extension": ".py",
   "mimetype": "text/x-python",
   "name": "python",
   "nbconvert_exporter": "python",
   "pygments_lexer": "ipython3",
   "version": "3.9.12"
  },
  "orig_nbformat": 4,
  "vscode": {
   "interpreter": {
    "hash": "c29adc918ff56c752ef69bef00024de6f7f898d607da287a4d8363a8ad045c43"
   }
  }
 },
 "nbformat": 4,
 "nbformat_minor": 2
}
